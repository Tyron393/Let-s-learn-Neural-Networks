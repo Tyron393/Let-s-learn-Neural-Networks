{
 "cells": [
  {
   "cell_type": "markdown",
   "metadata": {},
   "source": [
    "# Classses\n",
    "\n",
    "Python is an object oriented programming language. Every class is inherited from the base `object` class by default. "
   ]
  },
  {
   "cell_type": "code",
   "execution_count": 1,
   "metadata": {},
   "outputs": [
    {
     "name": "stdout",
     "output_type": "stream",
     "text": [
      "<class '__main__.A'>\n"
     ]
    }
   ],
   "source": [
    "class A:\n",
    "    pass\n",
    "\n",
    "print(A)"
   ]
  },
  {
   "cell_type": "code",
   "execution_count": 14,
   "metadata": {},
   "outputs": [
    {
     "name": "stdout",
     "output_type": "stream",
     "text": [
      "5\n"
     ]
    }
   ],
   "source": [
    "class A:\n",
    "    def __init__(self, number: int) -> None:\n",
    "        self.number = number\n",
    "\n",
    "a = A(5)\n",
    "print(a.number)"
   ]
  },
  {
   "cell_type": "code",
   "execution_count": 15,
   "metadata": {},
   "outputs": [
    {
     "name": "stdout",
     "output_type": "stream",
     "text": [
      "4\n"
     ]
    }
   ],
   "source": [
    "class A:\n",
    "    def __init__(self, l : list) -> None:\n",
    "        self.list = l\n",
    "        \n",
    "    def __len__(self):\n",
    "        return len(self.list)\n",
    "\n",
    "a = A([1,2,3,4])\n",
    "print(len(a))"
   ]
  },
  {
   "cell_type": "code",
   "execution_count": 17,
   "metadata": {},
   "outputs": [
    {
     "name": "stdout",
     "output_type": "stream",
     "text": [
      "Hello from A\n"
     ]
    }
   ],
   "source": [
    "class A:\n",
    "    def __call__(self):\n",
    "        print(\"Hello from A\")\n",
    "        \n",
    "a = A()\n",
    "a()"
   ]
  },
  {
   "cell_type": "markdown",
   "metadata": {},
   "source": [
    "---\n",
    "\n",
    "## Type casting"
   ]
  },
  {
   "cell_type": "code",
   "execution_count": 18,
   "metadata": {},
   "outputs": [
    {
     "name": "stdout",
     "output_type": "stream",
     "text": [
      "That's a string\n",
      "That's a string\n"
     ]
    }
   ],
   "source": [
    "class A:\n",
    "    def __init__(self) -> None:\n",
    "        self.string = \"That's a string\"\n",
    "        \n",
    "    def __str__(self):\n",
    "        return self.string\n",
    "\n",
    "a = A()\n",
    "print(str(a))\n",
    "print(a)"
   ]
  },
  {
   "cell_type": "code",
   "execution_count": 22,
   "metadata": {},
   "outputs": [
    {
     "name": "stdout",
     "output_type": "stream",
     "text": [
      "5\n"
     ]
    }
   ],
   "source": [
    "class A:\n",
    "    def __init__(self) -> None:\n",
    "        self.int = 5\n",
    "\n",
    "    def __int__(self):\n",
    "        return self.int\n",
    "\n",
    "a = A()\n",
    "print(int(a))"
   ]
  },
  {
   "cell_type": "code",
   "execution_count": 23,
   "metadata": {},
   "outputs": [
    {
     "name": "stdout",
     "output_type": "stream",
     "text": [
      "True\n"
     ]
    }
   ],
   "source": [
    "class A:\n",
    "    def __init__(self) -> None:\n",
    "        self.bool = True\n",
    "\n",
    "    def __bool__(self):\n",
    "        return self.bool\n",
    "\n",
    "a = A()\n",
    "print(bool(a))"
   ]
  },
  {
   "cell_type": "code",
   "execution_count": 25,
   "metadata": {},
   "outputs": [
    {
     "name": "stdout",
     "output_type": "stream",
     "text": [
      "0.3\n"
     ]
    }
   ],
   "source": [
    "class A:\n",
    "    def __init__(self) -> None:\n",
    "        self.float = .3\n",
    "        \n",
    "    def __float__(self):\n",
    "        return self.float\n",
    "\n",
    "a = A()\n",
    "print(float(a))"
   ]
  },
  {
   "cell_type": "markdown",
   "metadata": {},
   "source": [
    "---\n",
    "\n",
    "## Iterators"
   ]
  },
  {
   "cell_type": "code",
   "execution_count": 26,
   "metadata": {},
   "outputs": [
    {
     "name": "stdout",
     "output_type": "stream",
     "text": [
      "0\n",
      "1\n",
      "2\n",
      "3\n",
      "4\n",
      "5\n",
      "6\n",
      "7\n",
      "8\n",
      "9\n",
      "10\n"
     ]
    }
   ],
   "source": [
    "class A:\n",
    "    def __iter__(self) -> A:\n",
    "        self.number = 0\n",
    "        return self\n",
    "    \n",
    "    def __next__(self):\n",
    "        if self.number > 10:\n",
    "            raise StopIteration()\n",
    "        \n",
    "        number = self.number\n",
    "        self.number += 1\n",
    "\n",
    "        return number\n",
    "\n",
    "for number in A():\n",
    "    print(number)"
   ]
  },
  {
   "cell_type": "markdown",
   "metadata": {},
   "source": [
    "---\n",
    "\n",
    "## Comparison"
   ]
  },
  {
   "cell_type": "code",
   "execution_count": 29,
   "metadata": {},
   "outputs": [
    {
     "name": "stdout",
     "output_type": "stream",
     "text": [
      "Equal: False\n",
      "Not Equal: True\n",
      "Greater: False\n",
      "Greater or Equal: False\n",
      "Less: True\n",
      "Less or Equal: True\n"
     ]
    }
   ],
   "source": [
    "class A:\n",
    "    def __init__(self, number: int) -> None:\n",
    "        self.number = number\n",
    "    def __eq__(self, other : A) -> bool:\n",
    "        if type(other) != A:\n",
    "            raise TypeError(f\"type {type(other)} is not supported\")\n",
    "        return self.number == other.number\n",
    "    \n",
    "    def __ne__(self, other : A) -> bool:\n",
    "        if type(other) != A:\n",
    "            raise TypeError(f\"type {type(other)} is not supported\")\n",
    "        return self.number != other.number\n",
    "    \n",
    "    def __gt__(self, other : A) -> bool:\n",
    "        if type(other) != A:\n",
    "            raise TypeError(f\"type {type(other)} is not supported\")\n",
    "        return self.number > other.number\n",
    "    \n",
    "    def __ge__(self, other : A) -> bool:\n",
    "        if type(other) != A:\n",
    "            raise TypeError(f\"type {type(other)} is not supported\")\n",
    "        return self.number >= other.number\n",
    "    \n",
    "    def __lt__(self, other : A) -> bool:\n",
    "        if type(other) != A:\n",
    "            raise TypeError(f\"type {type(other)} is not supported\")\n",
    "        return self.number < other.number\n",
    "    \n",
    "    def __le__(self, other : A) -> bool:\n",
    "        if type(other) != A:\n",
    "            raise TypeError(f\"type {type(other)} is not supported\")\n",
    "        return self.number <= other.number\n",
    "\n",
    "a1 = A(5)\n",
    "a2 = A(10)\n",
    "print(\"Equal:\", a1 == a2)\n",
    "print(\"Not Equal:\", a1 != a2)\n",
    "print(\"Greater:\", a1 > a2)\n",
    "print(\"Greater or Equal:\", a1 >= a2)\n",
    "print(\"Less:\", a1 < a2)\n",
    "print(\"Less or Equal:\", a1 <= a2)"
   ]
  },
  {
   "cell_type": "markdown",
   "metadata": {},
   "source": [
    "---\n",
    "## Inheritance"
   ]
  },
  {
   "cell_type": "code",
   "execution_count": 31,
   "metadata": {},
   "outputs": [
    {
     "name": "stdout",
     "output_type": "stream",
     "text": [
      "4\n",
      "6\n"
     ]
    }
   ],
   "source": [
    "class A:\n",
    "    def __init__(self, number) -> None:\n",
    "        self.number = number\n",
    "    \n",
    "    def add(self, number) -> None:\n",
    "        self.number += number\n",
    "\n",
    "class B(A):\n",
    "    def __init__(self, number) -> None:\n",
    "        super().__init__(number)\n",
    "\n",
    "a = A(1)\n",
    "a.add(3)\n",
    "print(a.number)\n",
    "\n",
    "b = B(2)\n",
    "b.add(4)\n",
    "print(b.number)"
   ]
  }
 ],
 "metadata": {
  "kernelspec": {
   "display_name": "torch38",
   "language": "python",
   "name": "python3"
  },
  "language_info": {
   "codemirror_mode": {
    "name": "ipython",
    "version": 3
   },
   "file_extension": ".py",
   "mimetype": "text/x-python",
   "name": "python",
   "nbconvert_exporter": "python",
   "pygments_lexer": "ipython3",
   "version": "3.8.18"
  }
 },
 "nbformat": 4,
 "nbformat_minor": 2
}

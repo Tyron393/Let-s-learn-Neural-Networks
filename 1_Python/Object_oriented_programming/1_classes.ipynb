{
 "cells": [
  {
   "cell_type": "markdown",
   "metadata": {},
   "source": [
    "# Basic Classes and Objects\n",
    "\n",
    "In Python, `classes` are blueprints for creating `objects`, which are specific **instances** of these classes. A class defines a template that encapsulates data and behaviors by bundling **attributes** (data) and **methods** (functions that operate on this data) together. Each object created from a class can have its own unique attribute values while sharing the structure and functionality defined by the class.\n",
    "\n",
    "Classes promote modularity and reusability by organizing code into logical, self-contained units. Through **object-oriented** principles like encapsulation, inheritance, and polymorphism, classes allow developers to build more complex and scalable applications by modeling real-world concepts as code."
   ]
  },
  {
   "cell_type": "code",
   "execution_count": 1,
   "metadata": {},
   "outputs": [
    {
     "name": "stdout",
     "output_type": "stream",
     "text": [
      "<class '__main__.Car'>\n",
      "<__main__.Car object at 0x000002402EDC5E80>\n",
      "Toyota\n"
     ]
    }
   ],
   "source": [
    "class Car:\n",
    "    \"\"\"A class representing a car with a brand attribute.\"\"\"\n",
    "    \n",
    "    brand: str = \"Toyota\"  # Class attribute\n",
    "\n",
    "# Creating an instance of the class\n",
    "my_car = Car()\n",
    "\n",
    "# Car is the class\n",
    "print(Car) # Output: <class '__main__.Car'>\n",
    "\n",
    "# my_car is an object/instance of Car \n",
    "print(my_car) # Output: <__main__.Car object at 0x000002402EDC5E80>\n",
    "\n",
    "# Accessing the attribute\n",
    "print(my_car.brand)  # Output: Toyota"
   ]
  },
  {
   "cell_type": "markdown",
   "metadata": {},
   "source": [
    "---\n",
    "## Constructors and Instance Methods\n",
    "\n",
    "The **constructor method** (`__init__`) is a special method in Python that is automatically called when an instance (object) of a class is created. It allows you to initialize the object's attributes with specific values, setting up the initial state for each new object.\n",
    "\n",
    "**Instance methods** are functions defined within a class that perform operations on the object's data. They require a reference to the instance (usually named `self`), which is passed automatically when the method is called. The `self` keyword represents the current instance, allowing instance methods to access and modify the object's attributes directly."
   ]
  },
  {
   "cell_type": "code",
   "execution_count": 3,
   "metadata": {},
   "outputs": [
    {
     "name": "stdout",
     "output_type": "stream",
     "text": [
      "Toyota Corolla\n",
      "Honda Civic\n",
      "Car: Toyota Corolla\n"
     ]
    }
   ],
   "source": [
    "class Car:\n",
    "    \"\"\"A class representing a car with brand and model attributes.\"\"\"\n",
    "    \n",
    "    def __init__(self, brand: str, model: str) -> None:\n",
    "        \"\"\"\n",
    "        Initializes a Car object with a brand and model.\n",
    "\n",
    "        Args:\n",
    "            brand (str): The brand of the car.\n",
    "            model (str): The model of the car.\n",
    "        \"\"\"\n",
    "        self.brand: str = brand  # Instance attribute\n",
    "        self.model: str = model  # Instance attribute\n",
    "\n",
    "    def display_info(self) -> str:\n",
    "        \"\"\"\n",
    "        Returns a formatted string with car information.\n",
    "\n",
    "        Returns:\n",
    "            str: A string describing the car.\n",
    "        \"\"\"\n",
    "        return f\"Car: {self.brand} {self.model}\"\n",
    "# Creating instances of the class with different initial values\n",
    "my_car = Car(\"Toyota\", \"Corolla\")\n",
    "another_car = Car(\"Honda\", \"Civic\")\n",
    "\n",
    "print(my_car.brand, my_car.model)        # Output: Toyota Corolla\n",
    "print(another_car.brand, another_car.model)  # Output: Honda Civic\n",
    "print(my_car.display_info())  # Output: Car: Toyota Corolla"
   ]
  },
  {
   "cell_type": "markdown",
   "metadata": {},
   "source": [
    "---\n",
    "## Dunder (Magic) Methods\n",
    "\n",
    "**Dunder methods**, also known as magic methods, are special methods in Python that start and end with double underscores (`__`). These methods define the behavior of objects for built-in operations like addition, string representation, iteration, and comparisons. Dunder methods allow you to customize how your objects interact with Python’s built-in functions and operators, enhancing the interactivity and usability of custom classes. They make classes more expressive and intuitive, enabling objects to behave similarly to built-in data types."
   ]
  },
  {
   "cell_type": "markdown",
   "metadata": {},
   "source": [
    "### `__len__`\n",
    "\n",
    "The `__len__` method returns the \"length\" of an object, making it compatible with the `len()` function. It is often used in classes that represent collections or sequences."
   ]
  },
  {
   "cell_type": "code",
   "execution_count": 5,
   "metadata": {},
   "outputs": [
    {
     "name": "stdout",
     "output_type": "stream",
     "text": [
      "3\n"
     ]
    }
   ],
   "source": [
    "from typing import List\n",
    "\n",
    "class CarCollection:\n",
    "    \"\"\"A class to represent a collection of cars.\"\"\"\n",
    "\n",
    "    def __init__(self, cars: List[str]) -> None:\n",
    "        \"\"\"\n",
    "        Initializes a CarCollection object with a list of cars.\n",
    "\n",
    "        Args:\n",
    "            cars (list[str]): A list of car names.\n",
    "        \"\"\"\n",
    "        self.cars = cars\n",
    "\n",
    "    def __len__(self) -> int:\n",
    "        \"\"\"\n",
    "        Returns the number of cars in the collection.\n",
    "\n",
    "        Returns:\n",
    "            int: The number of cars.\n",
    "        \"\"\"\n",
    "        return len(self.cars)\n",
    "\n",
    "my_cars = CarCollection([\"Toyota Corolla\", \"Honda Civic\", \"Tesla Model S\"])\n",
    "print(len(my_cars))  # Output: 3"
   ]
  },
  {
   "cell_type": "markdown",
   "metadata": {},
   "source": [
    "### `__repr__` and `__str__`\n",
    "- `__repr__`: Returns an unambiguous string representation of an object, primarily for debugging and development. Ideally, `__repr__` returns a string that, if evaluated, would recreate the object. Useful for debugging.\n",
    "- `__str__`: Provides a human-readable string representation of an object, used by `print`"
   ]
  },
  {
   "cell_type": "code",
   "execution_count": 6,
   "metadata": {},
   "outputs": [
    {
     "name": "stdout",
     "output_type": "stream",
     "text": [
      "Car(brand='Toyota', model='Corolla', year=2020)\n",
      "2020 Toyota Corolla\n"
     ]
    }
   ],
   "source": [
    "class Car:\n",
    "    \"\"\"A class to represent a car with brand, model, and year attributes.\"\"\"\n",
    "\n",
    "    def __init__(self, brand: str, model: str, year: int) -> None:\n",
    "        \"\"\"\n",
    "        Initializes a Car object with brand, model, and year.\n",
    "\n",
    "        Args:\n",
    "            brand (str): The brand of the car.\n",
    "            model (str): The model of the car.\n",
    "            year (int): The production year of the car.\n",
    "        \"\"\"\n",
    "        self.brand = brand\n",
    "        self.model = model\n",
    "        self.year = year\n",
    "\n",
    "    def __repr__(self) -> str:\n",
    "        \"\"\"\n",
    "        Provides an unambiguous string representation of the car for debugging.\n",
    "\n",
    "        Returns:\n",
    "            str: A string that represents the car's attributes.\n",
    "        \"\"\"\n",
    "        return f\"Car(brand='{self.brand}', model='{self.model}', year={self.year})\"\n",
    "\n",
    "    def __str__(self) -> str:\n",
    "        \"\"\"\n",
    "        Provides a human-readable string representation of the car.\n",
    "\n",
    "        Returns:\n",
    "            str: A formatted string describing the car.\n",
    "        \"\"\"\n",
    "        return f\"{self.year} {self.brand} {self.model}\"\n",
    "\n",
    "car = Car(\"Toyota\", \"Corolla\", 2020)\n",
    "print(repr(car))  # Output: Car(brand='Toyota', model='Corolla', year=2020)\n",
    "print(car)   # Output: 2020 Toyota Corolla"
   ]
  },
  {
   "cell_type": "markdown",
   "metadata": {},
   "source": [
    "### Other type casing dunders\n",
    "\n",
    "Other casting dunders (e.g., `__int__`, `__float__`, `__str__`) allow explicit or implicit conversion of an object to an `integer`, `float`, `string`, or other basic data types."
   ]
  },
  {
   "cell_type": "code",
   "execution_count": 8,
   "metadata": {},
   "outputs": [
    {
     "name": "stdout",
     "output_type": "stream",
     "text": [
      "Temperature(celsius=36.6)\n",
      "36\n",
      "36.6\n"
     ]
    }
   ],
   "source": [
    "class Temperature:\n",
    "    \"\"\"A class to represent temperature in Celsius.\"\"\"\n",
    "    \n",
    "    def __init__(self, celsius: float) -> None:\n",
    "        self.celsius = celsius\n",
    "\n",
    "    def __repr__(self) -> str:\n",
    "        \"\"\"Returns a formal string representation of the Temperature object.\"\"\"\n",
    "        return f\"Temperature(celsius={self.celsius})\"\n",
    "\n",
    "    def __int__(self) -> int:\n",
    "        \"\"\"Converts the temperature to an integer (rounded Celsius).\"\"\"\n",
    "        return int(self.celsius)\n",
    "\n",
    "    def __float__(self) -> float:\n",
    "        \"\"\"Converts the temperature to a float.\"\"\"\n",
    "        return float(self.celsius)\n",
    "\n",
    "temp = Temperature(36.6)\n",
    "print(repr(temp))   # Output: Temperature(celsius=36.6)\n",
    "print(int(temp))    # Output: 36\n",
    "print(float(temp))  # Output: 36.6"
   ]
  },
  {
   "cell_type": "markdown",
   "metadata": {},
   "source": [
    "### `__call__`\n",
    "\n",
    "The `__call__` method lets an instance of a class be called as if it were a function, enabling custom behavior upon \"calling\" the instance."
   ]
  },
  {
   "cell_type": "code",
   "execution_count": 7,
   "metadata": {},
   "outputs": [
    {
     "name": "stdout",
     "output_type": "stream",
     "text": [
      "2021 Tesla Model 3 - Ready to drive!\n"
     ]
    }
   ],
   "source": [
    "class Car:\n",
    "    \"\"\"A class to represent a car with brand, model, and year attributes.\"\"\"\n",
    "\n",
    "    def __init__(self, brand: str, model: str, year: int) -> None:\n",
    "        \"\"\"\n",
    "        Initializes a Car object with brand, model, and year.\n",
    "\n",
    "        Args:\n",
    "            brand (str): The brand of the car.\n",
    "            model (str): The model of the car.\n",
    "            year (int): The production year of the car.\n",
    "        \"\"\"\n",
    "        self.brand = brand\n",
    "        self.model = model\n",
    "        self.year = year\n",
    "\n",
    "    def __call__(self) -> str:\n",
    "        \"\"\"\n",
    "        Returns a detailed description when the object is called like a function.\n",
    "\n",
    "        Returns:\n",
    "            str: A description of the car.\n",
    "        \"\"\"\n",
    "        return f\"{self.year} {self.brand} {self.model} - Ready to drive!\"\n",
    "\n",
    "car = Car(\"Tesla\", \"Model 3\", 2021)\n",
    "print(car())  # Output: 2021 Tesla Model 3 - Ready to drive!"
   ]
  },
  {
   "cell_type": "markdown",
   "metadata": {},
   "source": [
    "---\n",
    "\n",
    "### Iterators\n",
    "\n",
    "The `__iter__` and `__next__` methods are key components in making an object **iterable**, allowing it to be compatible with Python’s `for` loops and other iteration contexts (e.g., list comprehensions and generator functions). When implemented together, these methods enable the object to return one element at a time, facilitating the sequential processing of data.\n",
    "\n",
    "- `__iter__`: This method is responsible for returning the iterator object itself, often by returning self. It’s called once at the beginning of an iteration.\n",
    "\n",
    "- `__next__`: Called on each iteration step to retrieve the next item. When there are no more items to return, `__next__` raises a `StopIteration` exception, signaling that the iteration has completed. This behavior allows objects to define their own custom sequences and makes them compatible with iteration contexts like for loops."
   ]
  },
  {
   "cell_type": "code",
   "execution_count": 10,
   "metadata": {},
   "outputs": [
    {
     "name": "stdout",
     "output_type": "stream",
     "text": [
      "Toyota Corolla\n",
      "Honda Civic\n",
      "Tesla Model S\n"
     ]
    }
   ],
   "source": [
    "from typing import List\n",
    "\n",
    "class CarCollection:\n",
    "    \"\"\"A class to represent a collection of cars, making it iterable.\"\"\"\n",
    "\n",
    "    def __init__(self, cars: List[str]) -> None:\n",
    "        \"\"\"\n",
    "        Initializes a CarCollection object with a list of cars.\n",
    "\n",
    "        Args:\n",
    "            cars (list[str]): A list of car names.\n",
    "        \"\"\"\n",
    "        self.cars = cars\n",
    "        self._index = 0\n",
    "\n",
    "    def __iter__(self) -> CarCollection:\n",
    "        \"\"\"\n",
    "        Returns the iterator object itself.\n",
    "\n",
    "        Returns:\n",
    "            CarCollection: The iterable car collection.\n",
    "        \"\"\"\n",
    "        self._index = 0  # Reset index on new iteration\n",
    "        return self\n",
    "\n",
    "    def __next__(self) -> str:\n",
    "        \"\"\"\n",
    "        Returns the next car in the collection.\n",
    "\n",
    "        Returns:\n",
    "            str: The next car's name.\n",
    "\n",
    "        Raises:\n",
    "            StopIteration: If there are no more cars to return.\n",
    "        \"\"\"\n",
    "        if self._index >= len(self.cars):\n",
    "            raise StopIteration\n",
    "        result = self.cars[self._index]\n",
    "        self._index += 1\n",
    "        return result\n",
    "\n",
    "my_cars = CarCollection([\"Toyota Corolla\", \"Honda Civic\", \"Tesla Model S\"])\n",
    "for car in my_cars:\n",
    "    print(car)\n",
    "# Output:\n",
    "# Toyota Corolla\n",
    "# Honda Civic\n",
    "# Tesla Model S\n"
   ]
  },
  {
   "cell_type": "markdown",
   "metadata": {},
   "source": [
    "---\n",
    "\n",
    "### Comparison\n",
    "\n",
    "**Comparison dunder methods** allow custom classes to support relational operators such as `<`, `<=`,`==`, `!=`, `>`, and `>=`.\n",
    "\n",
    "- `__eq__`: Defines behavior for equality (`==`). It should return True if the two objects being compared are considered \"equal.\"\n",
    "- `__ne__`: Defines behavior for inequality (`!=`). Returns True if the objects are considered \"not equal.\"\n",
    "- `__lt__`: Defines behavior for \"less than\" (`<`). Returns True if the object on the left is \"less than\" the object on the right based on the chosen comparison logic.\n",
    "- `__le__`: Defines behavior for \"less than or equal to\" (`<=`). Combines the logic of `__lt__` and `__eq__`.\n",
    "- `__gt__`: Defines behavior for \"greater than\" (`>`). Returns True if the object on the left is \"greater than\" the object on the right.\n",
    "- `__ge__`: Defines behavior for \"greater than or equal to\" (`>=`). Combines the logic of `__gt__` and `__eq__`.\n",
    "\n",
    "By implementing these methods, you allow custom classes to interact naturally with Python’s built-in sorting functions (like `sorted()`), data structures that rely on ordering (like `max` and `min`), and statements that require comparisons. Proper implementation of these methods ensures that custom objects can be evaluated and ordered meaningfully in various contexts."
   ]
  },
  {
   "cell_type": "code",
   "execution_count": 11,
   "metadata": {},
   "outputs": [
    {
     "name": "stdout",
     "output_type": "stream",
     "text": [
      "False\n",
      "True\n",
      "False\n"
     ]
    }
   ],
   "source": [
    "class Car:\n",
    "    \"\"\"A class to represent a car with brand, model, and year attributes, allowing comparison by year.\"\"\"\n",
    "\n",
    "    def __init__(self, brand: str, model: str, year: int) -> None:\n",
    "        \"\"\"\n",
    "        Initializes a Car object with brand, model, and year.\n",
    "\n",
    "        Args:\n",
    "            brand (str): The brand of the car.\n",
    "            model (str): The model of the car.\n",
    "            year (int): The production year of the car.\n",
    "        \"\"\"\n",
    "        self.brand = brand\n",
    "        self.model = model\n",
    "        self.year = year\n",
    "\n",
    "    def __eq__(self, other: Car) -> bool:\n",
    "        \"\"\"\n",
    "        Checks if two cars have the same production year.\n",
    "\n",
    "        Args:\n",
    "            other (Car): Another car to compare with.\n",
    "\n",
    "        Returns:\n",
    "            bool: True if both cars have the same year, False otherwise.\n",
    "        \"\"\"\n",
    "        return self.year == other.year\n",
    "\n",
    "    def __lt__(self, other: Car) -> bool:\n",
    "        \"\"\"\n",
    "        Checks if this car's production year is earlier than another car's.\n",
    "\n",
    "        Args:\n",
    "            other (Car): Another car to compare with.\n",
    "\n",
    "        Returns:\n",
    "            bool: True if this car's year is less than the other car's year.\n",
    "        \"\"\"\n",
    "        return self.year < other.year\n",
    "\n",
    "    def __gt__(self, other: Car) -> bool:\n",
    "        \"\"\"\n",
    "        Checks if this car's production year is later than another car's.\n",
    "\n",
    "        Args:\n",
    "            other (Car): Another car to compare with.\n",
    "\n",
    "        Returns:\n",
    "            bool: True if this car's year is greater than the other car's year.\n",
    "        \"\"\"\n",
    "        return self.year > other.year\n",
    "\n",
    "car1 = Car(\"Toyota\", \"Corolla\", 2019)\n",
    "car2 = Car(\"Honda\", \"Civic\", 2020)\n",
    "\n",
    "print(car1 == car2)  # Output: False\n",
    "print(car1 < car2)   # Output: True\n",
    "print(car1 > car2)   # Output: False"
   ]
  },
  {
   "cell_type": "markdown",
   "metadata": {},
   "source": [
    "## Other Useful Dunder methods\n",
    "\n",
    "### Arithmetic Dunders\n",
    "These methods allow you to define custom behavior for arithmetic operations on objects, making them act like numbers. They include:\n",
    "\n",
    "- `__add__`: For addition (`+`)\n",
    "- `__sub__`: For subtraction (`-`)\n",
    "- `__mul__`: For multiplication (`*`)\n",
    "- `__truediv__`: For true division (`/`)\n",
    "- `__floordiv__`: For floor division (`//`)\n",
    "- `__mod__`: For modulo (`%`)\n",
    "- `__pow__`: For exponentiation (`**`)\n",
    "- `__radd__`, `__rsub__`, etc.: For right-hand versions of these operators, enabling custom behavior when the object appears on the right side of an operator (e.g., `2 + obj`).\n",
    "\n",
    "### Attribute Access Dunders\n",
    "These methods let you customize attribute access, assignment, and deletion:\n",
    "\n",
    "- `__getattr__`: Called when an attribute that doesn’t exist is accessed. Useful for dynamic attributes.\n",
    "- `__getattribute__`: Called every time an attribute is accessed. Often used for overriding attribute access but should be used carefully to avoid infinite recursion.\n",
    "- `__setattr__`: Called when an attribute is set, allowing custom behavior for attribute assignment.\n",
    "- `__delattr__`: Called when an attribute is deleted using `del`.\n",
    "\n",
    "### Container/Collection Dunders\n",
    "These methods allow objects to act like collections or containers, making them compatible with indexing, slicing, and containment checks:\n",
    "\n",
    "- `__getitem__`: Allows indexing (`obj[key]`), commonly used in classes that represent collections or mappings.\n",
    "- `__setitem__`: Allows setting values with indexing (`obj[key] = value`).\n",
    "- `__delitem__`: Allows deletion of items using indexing (`del obj[key]`).\n",
    "- `__contains__`: Defines behavior for membership checks (`in` keyword), enabling expressions like `element in obj`."
   ]
  }
 ],
 "metadata": {
  "kernelspec": {
   "display_name": "torch38",
   "language": "python",
   "name": "python3"
  },
  "language_info": {
   "codemirror_mode": {
    "name": "ipython",
    "version": 3
   },
   "file_extension": ".py",
   "mimetype": "text/x-python",
   "name": "python",
   "nbconvert_exporter": "python",
   "pygments_lexer": "ipython3",
   "version": "3.8.18"
  }
 },
 "nbformat": 4,
 "nbformat_minor": 2
}

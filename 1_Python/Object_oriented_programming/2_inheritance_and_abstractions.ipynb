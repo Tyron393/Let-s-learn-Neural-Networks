{
 "cells": [
  {
   "cell_type": "markdown",
   "metadata": {},
   "source": [
    "# Inheritance and abstraction\n",
    "\n",
    "Inheritance and abstraction are two fundamental concepts in object-oriented programming that help manage complexity, promote code reuse, and establish clear relationships between classes. **Inheritance** allows a class (the **child** or **subclass**) to inherit attributes and methods from another class (the **parent** or **superclass**), enabling code reuse and often forming a class hierarchy. **Abstraction**, on the other hand, hides unnecessary implementation details from the user, exposing only essential elements. Python supports abstraction through **abstract base classes** (`ABC`s), which define methods that subclasses must implement, enforcing a specific structure and providing a blueprint for consistent subclass behavior. Together, inheritance and abstraction help in building modular, maintainable, and scalable code.\n",
    "\n",
    "## Inheritance\n",
    "\n",
    "To create a subclass that inherits from a superclass, we specify the superclass in parentheses after the subclass name."
   ]
  },
  {
   "cell_type": "code",
   "execution_count": 10,
   "metadata": {},
   "outputs": [
    {
     "name": "stdout",
     "output_type": "stream",
     "text": [
      "Hello, Alice!\n",
      "Alice is playing!\n"
     ]
    }
   ],
   "source": [
    "class Parent:\n",
    "    def __init__(self, name: str) -> None:\n",
    "        self.name = name\n",
    "\n",
    "    def greet(self) -> str:\n",
    "        return f\"Hello, {self.name}!\"\n",
    "\n",
    "class Child(Parent):\n",
    "    def play(self) -> str:\n",
    "        return f\"{self.name} is playing!\"\n",
    "\n",
    "child_instance = Child(\"Alice\")\n",
    "print(child_instance.greet())  # Inherited method from Parent\n",
    "print(child_instance.play())    # Defined in Child"
   ]
  },
  {
   "cell_type": "markdown",
   "metadata": {},
   "source": [
    "### Types of Inheritance\n",
    "- **Single Inheritance**: A class inherits from one parent class.\n",
    "- **Multiple Inheritance**: A class inherits from more than one parent class. Python supports this, but it can introduce complexity, especially with the diamond problem, where a subclass inherits from two classes that share a common ancestor.\n",
    "- **Multilevel Inheritance**: A class is derived from another derived class, forming a chain of inheritance.\n",
    "- **Hierarchical Inheritance**: Multiple classes inherit from a single parent class."
   ]
  },
  {
   "cell_type": "code",
   "execution_count": 11,
   "metadata": {},
   "outputs": [
    {
     "name": "stdout",
     "output_type": "stream",
     "text": [
      "Some generic animal sound\n",
      "Woof!\n"
     ]
    }
   ],
   "source": [
    "# Single Inheritance\n",
    "\n",
    "class Animal:\n",
    "    \"\"\"Represents a generic animal with basic behavior.\"\"\"\n",
    "\n",
    "    def speak(self) -> str:\n",
    "        \"\"\"Returns a generic animal sound.\"\"\"\n",
    "        return \"Some generic animal sound\"\n",
    "\n",
    "class Dog(Animal):\n",
    "    \"\"\"Represents a dog, which is a specific type of animal.\"\"\"\n",
    "\n",
    "    def bark(self) -> str:\n",
    "        \"\"\"Returns the sound of a dog barking.\"\"\"\n",
    "        return \"Woof!\"\n",
    "\n",
    "# Usage\n",
    "dog = Dog()\n",
    "print(dog.speak())  # Inherited method from Animal\n",
    "print(dog.bark())   # Method defined in Dog"
   ]
  },
  {
   "cell_type": "code",
   "execution_count": 12,
   "metadata": {},
   "outputs": [
    {
     "name": "stdout",
     "output_type": "stream",
     "text": [
      "Engine started\n",
      "Playing music\n",
      "Car is driving\n"
     ]
    }
   ],
   "source": [
    "# Multiple Inheritance\n",
    "\n",
    "class Engine:\n",
    "    \"\"\"Represents an engine component.\"\"\"\n",
    "\n",
    "    def start_engine(self) -> str:\n",
    "        \"\"\"Simulates starting the engine.\"\"\"\n",
    "        return \"Engine started\"\n",
    "\n",
    "class Radio:\n",
    "    \"\"\"Represents a radio component.\"\"\"\n",
    "\n",
    "    def play_music(self) -> str:\n",
    "        \"\"\"Simulates playing music.\"\"\"\n",
    "        return \"Playing music\"\n",
    "\n",
    "class Car(Engine, Radio):\n",
    "    \"\"\"Represents a car that has an engine and a radio.\"\"\"\n",
    "\n",
    "    def drive(self) -> str:\n",
    "        \"\"\"Simulates the car driving.\"\"\"\n",
    "        return \"Car is driving\"\n",
    "\n",
    "# Usage\n",
    "car = Car()\n",
    "print(car.start_engine())  # Inherited from Engine\n",
    "print(car.play_music())    # Inherited from Radio\n",
    "print(car.drive())         # Method defined in Car"
   ]
  },
  {
   "cell_type": "code",
   "execution_count": 13,
   "metadata": {},
   "outputs": [
    {
     "name": "stdout",
     "output_type": "stream",
     "text": [
      "Some generic animal sound\n",
      "Woof!\n",
      "Puppy is playing!\n"
     ]
    }
   ],
   "source": [
    "# Multilevel Inheritance\n",
    "\n",
    "class Animal:\n",
    "    \"\"\"Represents a generic animal with basic behavior.\"\"\"\n",
    "\n",
    "    def speak(self) -> str:\n",
    "        \"\"\"Returns a generic animal sound.\"\"\"\n",
    "        return \"Some generic animal sound\"\n",
    "\n",
    "class Dog(Animal):\n",
    "    \"\"\"Represents a dog, a type of animal with additional behavior.\"\"\"\n",
    "\n",
    "    def bark(self) -> str:\n",
    "        \"\"\"Returns the sound of a dog barking.\"\"\"\n",
    "        return \"Woof!\"\n",
    "\n",
    "class Puppy(Dog):\n",
    "    \"\"\"Represents a puppy, a young dog with unique behavior.\"\"\"\n",
    "\n",
    "    def play(self) -> str:\n",
    "        \"\"\"Simulates the puppy playing.\"\"\"\n",
    "        return \"Puppy is playing!\"\n",
    "\n",
    "# Usage\n",
    "puppy = Puppy()\n",
    "print(puppy.speak())  # Inherited from Animal\n",
    "print(puppy.bark())   # Inherited from Dog\n",
    "print(puppy.play())   # Method defined in Puppy"
   ]
  },
  {
   "cell_type": "code",
   "execution_count": 14,
   "metadata": {},
   "outputs": [
    {
     "name": "stdout",
     "output_type": "stream",
     "text": [
      "Some generic animal sound\n",
      "Woof!\n",
      "Some generic animal sound\n",
      "Meow!\n"
     ]
    }
   ],
   "source": [
    "# Hierarchical Inheritance\n",
    "\n",
    "class Animal:\n",
    "    \"\"\"Represents a generic animal with basic behavior.\"\"\"\n",
    "\n",
    "    def speak(self) -> str:\n",
    "        \"\"\"Returns a generic animal sound.\"\"\"\n",
    "        return \"Some generic animal sound\"\n",
    "\n",
    "class Dog(Animal):\n",
    "    \"\"\"Represents a dog, which is a specific type of animal.\"\"\"\n",
    "\n",
    "    def bark(self) -> str:\n",
    "        \"\"\"Returns the sound of a dog barking.\"\"\"\n",
    "        return \"Woof!\"\n",
    "\n",
    "class Cat(Animal):\n",
    "    \"\"\"Represents a cat, which is a specific type of animal.\"\"\"\n",
    "\n",
    "    def meow(self) -> str:\n",
    "        \"\"\"Returns the sound of a cat meowing.\"\"\"\n",
    "        return \"Meow!\"\n",
    "\n",
    "# Usage\n",
    "dog = Dog()\n",
    "cat = Cat()\n",
    "print(dog.speak())    # Inherited from Animal\n",
    "print(dog.bark())     # Method defined in Dog\n",
    "print(cat.speak())    # Inherited from Animal\n",
    "print(cat.meow())     # Method defined in Cat"
   ]
  },
  {
   "cell_type": "markdown",
   "metadata": {},
   "source": [
    "---\n",
    "\n",
    "## Method Overriding and `super()`\n",
    "\n",
    "A subclass can **override** methods from its superclass by **redefining** them with its own implementation. This allows the subclass to customize or extend the behavior of the inherited methods to better suit its specific needs. When a method is overridden, the subclass’s version of the method is called instead of the superclass’s version.\n",
    "\n",
    "To still access the superclass’s original implementation, the `super()` function can be used within the subclass method. `super()` returns a temporary object of the superclass, allowing access to its methods and properties. This is particularly useful when you want to extend or modify inherited behavior without completely replacing it. For instance, you can call a superclass method and then add extra steps or modifications in the subclass method, which helps maintain code modularity and reusability by reducing redundancy and ensuring that shared logic stays in the superclass."
   ]
  },
  {
   "cell_type": "code",
   "execution_count": 16,
   "metadata": {},
   "outputs": [
    {
     "name": "stdout",
     "output_type": "stream",
     "text": [
      "Hello from Parent! Hello from Child!\n"
     ]
    }
   ],
   "source": [
    "class Parent:\n",
    "    def greet(self) -> str:\n",
    "        return \"Hello from Parent!\"\n",
    "\n",
    "class Child(Parent):\n",
    "    def greet(self) -> str:\n",
    "        # Extending the greet method of the superclass\n",
    "        parent_greeting = super().greet()\n",
    "        return f\"{parent_greeting} Hello from Child!\"\n",
    "\n",
    "child_instance = Child()\n",
    "print(child_instance.greet()) # Output: Hello from Parent! Hello from Child!"
   ]
  },
  {
   "cell_type": "markdown",
   "metadata": {},
   "source": [
    "---\n",
    "\n",
    "## Abstraction (`ABC`) \n",
    "\n",
    "Python’s **Abstract Base Classes** (`ABC`s) provide a structured way to define abstract classes and enforce certain methods in subclasses. `ABC`s are part of the abc module in Python and are used to define a class structure that outlines a common interface for subclasses, but without implementing all of its functionality. Abstract classes cannot be instantiated directly; instead, they serve as templates for other classes.\n",
    "\n",
    "### Key Characteristics of Abstract Classes\n",
    "- **Define Required Methods**: ABCs allow you to define methods that **must** be implemented by any subclass, enforcing a consistent interface.\n",
    "- **Use of `@abstractmethod` Decorator**: Methods marked with the `@abstractmethod` decorator must be implemented by any subclass of the abstract class. If a subclass doesn’t implement all abstract methods, it cannot be instantiated.\n",
    "- **Optional Concrete Methods**: ABCs can include concrete methods with actual implementations, which subclasses inherit automatically. This can be useful for shared functionality that might still need slight modification across subclasses.\n",
    "- **Cannot Instantiate**: An abstract class cannot create an instance directly. Attempting to do so raises a `TypeError`."
   ]
  },
  {
   "cell_type": "code",
   "execution_count": 18,
   "metadata": {},
   "outputs": [
    {
     "name": "stdout",
     "output_type": "stream",
     "text": [
      "Circle area: 78.53975, perimeter: 31.4159\n",
      "Square area: 16, perimeter: 16\n"
     ]
    }
   ],
   "source": [
    "from abc import ABC, abstractmethod\n",
    "\n",
    "class Shape(ABC):\n",
    "    \"\"\"Abstract base class representing a geometric shape.\"\"\"\n",
    "\n",
    "    @abstractmethod\n",
    "    def area(self) -> float:\n",
    "        \"\"\"Calculates and returns the area of the shape.\"\"\"\n",
    "        pass\n",
    "\n",
    "    @abstractmethod\n",
    "    def perimeter(self) -> float:\n",
    "        \"\"\"Calculates and returns the perimeter of the shape.\"\"\"\n",
    "        pass\n",
    "\n",
    "class Circle(Shape):\n",
    "    \"\"\"Represents a circle shape.\"\"\"\n",
    "\n",
    "    def __init__(self, radius: float) -> None:\n",
    "        self.radius = radius\n",
    "\n",
    "    def area(self) -> float:\n",
    "        return 3.14159 * (self.radius ** 2)\n",
    "\n",
    "    def perimeter(self) -> float:\n",
    "        return 2 * 3.14159 * self.radius\n",
    "\n",
    "class Square(Shape):\n",
    "    \"\"\"Represents a square shape.\"\"\"\n",
    "\n",
    "    def __init__(self, side_length: float) -> None:\n",
    "        self.side_length = side_length\n",
    "\n",
    "    def area(self) -> float:\n",
    "        return self.side_length ** 2\n",
    "\n",
    "    def perimeter(self) -> float:\n",
    "        return 4 * self.side_length\n",
    "\n",
    "# Usage\n",
    "circle = Circle(5)\n",
    "print(f\"Circle area: {circle.area()}, perimeter: {circle.perimeter()}\")\n",
    "\n",
    "square = Square(4)\n",
    "print(f\"Square area: {square.area()}, perimeter: {square.perimeter()}\")"
   ]
  }
 ],
 "metadata": {
  "kernelspec": {
   "display_name": "torch38",
   "language": "python",
   "name": "python3"
  },
  "language_info": {
   "codemirror_mode": {
    "name": "ipython",
    "version": 3
   },
   "file_extension": ".py",
   "mimetype": "text/x-python",
   "name": "python",
   "nbconvert_exporter": "python",
   "pygments_lexer": "ipython3",
   "version": "3.8.18"
  }
 },
 "nbformat": 4,
 "nbformat_minor": 2
}

{
 "cells": [
  {
   "cell_type": "markdown",
   "metadata": {},
   "source": [
    "# Control flow statements\n",
    "In Python refers to the order in which the individual statements, instructions, or function calls are executed or evaluated within a program. At the heart of control flow are decision-making and looping structures, which allow you to dictate how your program behaves under different conditions.\n",
    "\n",
    "\n",
    "Python provides a variety of control flow mechanisms that enable you to:\n",
    "- Make decisions with conditions, determining which code should be executed based on specific criteria.\n",
    "- Repeat actions through loops, allowing a block of code to be executed multiple times.\n",
    "\n",
    "The primary control flow constructs in Python are:\n",
    "- **Conditional statements**: These allow your program to choose different branches of execution depending on conditions.\n",
    "  - `if`, `elif`, and `else`: These are used for decision-making based on Boolean expressions. Python checks the condition and runs the corresponding block of code `if` the condition is `True`.\n",
    "\n",
    "- **Loops**: These enable repetitive execution of a block of code.\n",
    "  - `for` loop: Executes a block of code for each item in a sequence (e.g., list, string, or range).\n",
    "  - `while` loop: Repeatedly executes a block of code as long as a given condition is True.\n",
    "\n",
    "- **Control flow keywords**: Python provides additional keywords like break, continue, and pass to fine-tune how loops behave.\n",
    "  - `break`: Exits a loop before it has gone through all the iterations.\n",
    "  - `continue`: Skips the current iteration and moves on to the next one.\n",
    "  - `pass`: Does nothing; often used as a placeholder for future code.\n",
    "\n",
    "Understanding these control flow tools is fundamental to writing Python programs that can make decisions, iterate over data, and respond dynamically to changing conditions. Whether you're building a simple decision-making program or handling complex loops and conditions, Python’s control flow mechanisms provide the tools to control the execution path of your program efficiently."
   ]
  }
 ],
 "metadata": {
  "kernelspec": {
   "display_name": "torch38",
   "language": "python",
   "name": "python3"
  },
  "language_info": {
   "codemirror_mode": {
    "name": "ipython",
    "version": 3
   },
   "file_extension": ".py",
   "mimetype": "text/x-python",
   "name": "python",
   "nbconvert_exporter": "python",
   "pygments_lexer": "ipython3",
   "version": "3.8.18"
  }
 },
 "nbformat": 4,
 "nbformat_minor": 2
}

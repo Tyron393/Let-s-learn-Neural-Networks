{
 "cells": [
  {
   "cell_type": "markdown",
   "metadata": {},
   "source": [
    "# Control flow statements\n",
    "In Python refers to the order in which the individual statements, instructions, or function calls are executed or evaluated within a program. At the heart of control flow are decision-making and looping structures, which allow you to dictate how your program behaves under different conditions.\n",
    "\n",
    "\n",
    "Python provides a variety of control flow mechanisms that enable you to:\n",
    "- Make decisions with conditions, determining which code should be executed based on specific criteria.\n",
    "- Repeat actions through loops, allowing a block of code to be executed multiple times.\n",
    "\n",
    "The primary control flow constructs in Python are:\n",
    "- **Conditional statements**: These allow your program to choose different branches of execution depending on conditions.\n",
    "  - `if`, `elif`, and `else`: These are used for decision-making based on Boolean expressions. Python checks the condition and runs the corresponding block of code `if` the condition is `True`.\n",
    "\n",
    "- **Loops**: These enable repetitive execution of a block of code.\n",
    "  - `for` loop: Executes a block of code for each item in a sequence (e.g., list, string, or range).\n",
    "  - `while` loop: Repeatedly executes a block of code as long as a given condition is True.\n",
    "\n",
    "- **Control flow keywords**: Python provides additional keywords like break, continue, and pass to fine-tune how loops behave.\n",
    "  - `break`: Exits a loop before it has gone through all the iterations.\n",
    "  - `continue`: Skips the current iteration and moves on to the next one.\n",
    "  - `pass`: Does nothing; often used as a placeholder for future code.\n",
    "\n",
    "Understanding these control flow tools is fundamental to writing Python programs that can make decisions, iterate over data, and respond dynamically to changing conditions. Whether you're building a simple decision-making program or handling complex loops and conditions, Python’s control flow mechanisms provide the tools to control the execution path of your program efficiently."
   ]
  },
  {
   "cell_type": "markdown",
   "metadata": {},
   "source": [
    "---\n",
    "\n",
    "## Loops\n",
    "\n",
    "### `for`\n",
    "\n",
    "A `for` loop is used to iterate over a sequence (like a list, tuple, dictionary, set, or string) and execute a block of code for each element in that sequence. \n",
    "\n",
    "```python\n",
    "for element in sequence:\n",
    "    # Code block\n",
    "```\n",
    "\n",
    "### Use Cases:\n",
    "- **Iterating over sequences**: Use for loops when you need to perform an operation on each item in a sequence.\n",
    "- **Enumerating items**: You can use `enumerate()` in a for loop to get both the index and the element in a list.\n",
    "- **Unpacking**: In a for loop, you can iterate over multiple values in tuples or lists and unpack them.\n",
    "\n"
   ]
  },
  {
   "cell_type": "code",
   "execution_count": 2,
   "metadata": {},
   "outputs": [
    {
     "name": "stdout",
     "output_type": "stream",
     "text": [
      "0\n",
      "1\n",
      "2\n",
      "3\n",
      "4\n",
      "Index: 0, Value: a\n",
      "Index: 1, Value: b\n",
      "Index: 2, Value: c\n",
      "1 is spelled one\n",
      "2 is spelled two\n"
     ]
    }
   ],
   "source": [
    "# In this example, the loop runs 5 times, printing the values from 0 to 4.\n",
    "for i in range(5):\n",
    "    print(i)\n",
    "\n",
    "# Enumerating over a list\n",
    "for idx, val in enumerate(['a', 'b', 'c']):\n",
    "    print(f\"Index: {idx}, Value: {val}\")\n",
    "\n",
    "# Unpacking tuples\n",
    "pairs = [(1, 'one'), (2, 'two')]\n",
    "for num, name in pairs:\n",
    "    print(f\"{num} is spelled {name}\")"
   ]
  },
  {
   "cell_type": "markdown",
   "metadata": {},
   "source": [
    "### Other functionality\n",
    "- `break`: Exits the loop prematurely, skipping any remaining iterations.\n",
    "- `continue`: Skips the current iteration and continues with the next one.\n",
    "- `else`: The `else` clause in a for loop runs after the loop completes all its iterations without encountering a `break` statement. If the loop ends due to `break`, the `else` clause is skipped."
   ]
  },
  {
   "cell_type": "code",
   "execution_count": 6,
   "metadata": {},
   "outputs": [
    {
     "name": "stdout",
     "output_type": "stream",
     "text": [
      "0\n",
      "1\n",
      "3\n",
      "0\n",
      "1\n",
      "2\n",
      "0\n",
      "1\n",
      "2\n",
      "3\n",
      "4\n",
      "Completed the loop\n"
     ]
    }
   ],
   "source": [
    "for i in range(5):\n",
    "    if i == 2:\n",
    "        continue  # Skips the current iteration (i=2)\n",
    "    elif i == 4:\n",
    "        break     # Exits the loop when i=4\n",
    "    print(i)\n",
    "#############################\n",
    "for i in range(5):\n",
    "    if i == 3:\n",
    "        break\n",
    "    print(i)\n",
    "else:\n",
    "    print(\"Completed the loop\")  # This won't run because `break` is encountered.\n",
    "#############################\n",
    "for i in range(5):\n",
    "    print(i)\n",
    "else:\n",
    "    print(\"Completed the loop\") # This will run because `break` is not encountered."
   ]
  },
  {
   "cell_type": "markdown",
   "metadata": {},
   "source": [
    "---\n",
    "### `while`\n",
    "\n",
    "A `while` loop repeatedly executes a block of code as long as a given condition remains `True`.\n",
    "\n",
    "```python\n",
    "while condition:\n",
    "    # Code block\n",
    "```\n",
    "\n",
    "### Use Cases:\n",
    "- **Indefinite iteration**: Use while loops when you need to continue looping until a certain condition is met, but you don't know the number of iterations in advance.\n",
    "- **Polling or waiting**: A while loop can be used to repeatedly check for a condition (e.g., waiting for a user action, or checking a state in a program)."
   ]
  },
  {
   "cell_type": "code",
   "execution_count": null,
   "metadata": {},
   "outputs": [],
   "source": [
    "# Example: Loop until the user enters a valid input\n",
    "while True:\n",
    "    user_input = input(\"Enter 'exit' to stop: \")\n",
    "    if user_input == 'exit':\n",
    "        break\n",
    "    print(\"You entered:\", user_input)"
   ]
  },
  {
   "cell_type": "markdown",
   "metadata": {},
   "source": [
    "### Other functionality\n",
    "\n",
    "- `break`: Exits the `while` loop immediately.\n",
    "- `continue`: Skips the current iteration and rechecks the condition for the next iteration.\n",
    "- `else`: The `else` block in a `while` loop runs if the loop terminates naturally (i.e., when the condition becomes `False`) without encountering a `break` statement."
   ]
  },
  {
   "cell_type": "code",
   "execution_count": 7,
   "metadata": {},
   "outputs": [
    {
     "name": "stdout",
     "output_type": "stream",
     "text": [
      "1\n",
      "2\n",
      "4\n",
      "0\n",
      "1\n",
      "2\n",
      "0\n",
      "1\n",
      "2\n",
      "3\n",
      "4\n",
      "Loop ended naturally\n"
     ]
    }
   ],
   "source": [
    "count = 0\n",
    "while count < 5:\n",
    "    count += 1\n",
    "    if count == 3:\n",
    "        continue  # Skips the current iteration\n",
    "    elif count == 5:\n",
    "        break     # Exits the loop\n",
    "    print(count)\n",
    "########################\n",
    "count = 0\n",
    "while count < 5:\n",
    "    if count == 3:\n",
    "        break\n",
    "    print(count)\n",
    "    count += 1\n",
    "else:\n",
    "    print(\"Loop ended naturally\")  # This won't run because `break` is used\n",
    "########################\n",
    "count = 0\n",
    "while count < 5:\n",
    "    print(count)\n",
    "    count += 1\n",
    "else:\n",
    "    print(\"Loop ended naturally\")  # This will run because `break` is not used"
   ]
  },
  {
   "cell_type": "markdown",
   "metadata": {},
   "source": [
    "---\n",
    "## `if`\n",
    "An `if` statement is a conditional control structure that executes a block of code only if a specified condition evaluates to `True`.\n",
    "\n",
    "```python\n",
    "if condition:\n",
    "    # Code block\n",
    "elif another_condition:\n",
    "    # Another code block\n",
    "else:\n",
    "    # Else block\n",
    "```\n",
    "### Use Cases:\n",
    "- **Conditional execution**: You use `if` statements to make decisions in your code and execute different code paths based on the evaluation of conditions.\n",
    "- **Nested conditions**: You can nest `if` statements to evaluate multiple layers of logic."
   ]
  },
  {
   "cell_type": "code",
   "execution_count": 8,
   "metadata": {},
   "outputs": [
    {
     "name": "stdout",
     "output_type": "stream",
     "text": [
      "x is greater than 5\n"
     ]
    }
   ],
   "source": [
    "x = 10\n",
    "if x > 5:\n",
    "    print(\"x is greater than 5\")\n",
    "elif x == 5:\n",
    "    print(\"x is equal to 5\")\n",
    "else:\n",
    "    print(\"x is less than 5\")"
   ]
  },
  {
   "cell_type": "markdown",
   "metadata": {},
   "source": [
    "## Other Control Flow Keywords\n",
    "### `pass`:\n",
    "- The `pass` statement is a placeholder that does nothing. It is used in situations where code is syntactically required but no action is needed.\n",
    "- **Common use case**: When you're planning to implement a function, class, or loop later but don't want to raise an error.\n",
    "\n"
   ]
  },
  {
   "cell_type": "code",
   "execution_count": 10,
   "metadata": {},
   "outputs": [],
   "source": [
    "for i in range(5):\n",
    "    pass           # execution is skipped"
   ]
  },
  {
   "cell_type": "markdown",
   "metadata": {},
   "source": [
    "# Summary of Control Flow Use Cases and Advanced Features\n",
    "\n",
    "|   Statement  |                       Use Case                      |                       Advanced Features                      |\n",
    "|--------------|-----------------------------------------------------|--------------------------------------------------------------|\n",
    "| `for` loop     | Iterating over sequences, lists, dictionaries, etc. | `else` after loop without `break`, `continue` and `break` statements |\n",
    "| `while` loop   | Repeating code until a condition changes            | `else` after loop without `break`, `continue` and `break` statements |\n",
    "| `if` statement | Conditional execution                               | `elif` and `else` for multi-branch logic                         |"
   ]
  }
 ],
 "metadata": {
  "kernelspec": {
   "display_name": "torch38",
   "language": "python",
   "name": "python3"
  },
  "language_info": {
   "codemirror_mode": {
    "name": "ipython",
    "version": 3
   },
   "file_extension": ".py",
   "mimetype": "text/x-python",
   "name": "python",
   "nbconvert_exporter": "python",
   "pygments_lexer": "ipython3",
   "version": "3.8.18"
  }
 },
 "nbformat": 4,
 "nbformat_minor": 2
}

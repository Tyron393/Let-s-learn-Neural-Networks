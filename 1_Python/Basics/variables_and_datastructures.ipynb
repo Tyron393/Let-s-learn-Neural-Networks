{
 "cells": [
  {
   "cell_type": "markdown",
   "metadata": {},
   "source": [
    "# Base vairables\n",
    "\n",
    "In Python is a dynamicly typed language, that means the type of the variables can change durring runtime. \n",
    "This behavior can lead to unwanted behavior, but can give sevaral opportunities for smarter solutions if used properly.\n",
    "\n",
    "*print -- writes out it's given content*\n",
    "\n",
    "*type -- gives back the type of it's input variable*"
   ]
  },
  {
   "cell_type": "code",
   "execution_count": 2,
   "metadata": {},
   "outputs": [
    {
     "name": "stdout",
     "output_type": "stream",
     "text": [
      "<class 'int'>\n",
      "<class 'str'>\n"
     ]
    }
   ],
   "source": [
    "var = 5\n",
    "print(type(var))\n",
    "var = \"sting\"\n",
    "print(type(var))"
   ]
  },
  {
   "cell_type": "markdown",
   "metadata": {},
   "source": [
    "To describe datastuctures, we need to discuss some properties of them.\n",
    "- **mutable/inmutable**: the content of the datastructure is changable/unchangable durring runtime\n",
    "- **heterogen/homogen**: the content of the datastructure can/can't contain different types\n",
    "- **ordered**: the datastucure can be indexed\n"
   ]
  },
  {
   "cell_type": "markdown",
   "metadata": {},
   "source": [
    "---\n",
    "### Tuple\n",
    "- heterogen\n",
    "- imutable\n",
    "- ordered\n",
    "\n",
    "The length of a tuple is fixed."
   ]
  },
  {
   "cell_type": "code",
   "execution_count": 3,
   "metadata": {},
   "outputs": [
    {
     "name": "stdout",
     "output_type": "stream",
     "text": [
      "String\n",
      "('String', 4)\n"
     ]
    }
   ],
   "source": [
    "t = (\"String\", 4)\n",
    "print(t[0])\n",
    "print(t)"
   ]
  },
  {
   "cell_type": "markdown",
   "metadata": {},
   "source": [
    "---\n",
    "### List\n",
    "\n",
    "- heterogen\n",
    "- mutable\n",
    "- ordered\n",
    "\n",
    "*list.append -- ads a value to the end of the list*\n",
    "\n",
    "*list.pop -- deletes the `N`th element of the list. If left empty, deletes the last element*"
   ]
  },
  {
   "cell_type": "code",
   "execution_count": 4,
   "metadata": {},
   "outputs": [
    {
     "name": "stdout",
     "output_type": "stream",
     "text": [
      "[4, 'String', True]\n",
      "[4, 'String', True, 7]\n",
      "[4, 'String', True]\n",
      "[4, 'String', True, 5]\n",
      "[9, 'String', True, 5]\n"
     ]
    }
   ],
   "source": [
    "l1 = [4,\"String\", True]\n",
    "\n",
    "print(l1)\n",
    "l1.append(7)\n",
    "print(l1)\n",
    "l1.pop()\n",
    "print(l1)\n",
    "l1 += [5]\n",
    "print(l1)\n",
    "l1[0] = 9\n",
    "print(l1)"
   ]
  },
  {
   "cell_type": "markdown",
   "metadata": {},
   "source": [
    "---\n",
    "### Set\n",
    "\n",
    "- heterogen\n",
    "- imutable\n",
    "- unordered\n",
    "The contained items are unique\n",
    "\n",
    "*set.union -- gives back the elements that are in either one of the sets*\n",
    "\n",
    "*set.diffetence -- gives back the elements that are in the set, but not in the set that as parameter*\n",
    "\n",
    "*set.intersection -- gives back the elements that both sets are containing*"
   ]
  },
  {
   "cell_type": "code",
   "execution_count": 18,
   "metadata": {},
   "outputs": [
    {
     "name": "stdout",
     "output_type": "stream",
     "text": [
      "{1, 2, 'String'}\n",
      "{1, 2, 'String', 'True'}\n",
      "{'String'}\n",
      "{1, 2}\n"
     ]
    }
   ],
   "source": [
    "s = {1,2,\"String\"}\n",
    "print(s)\n",
    "print(s.union({1,2,\"True\",True}))\n",
    "print(s.difference({1,2,3}))\n",
    "print(s.intersection({1,2,3,10,11,12}))"
   ]
  }
 ],
 "metadata": {
  "kernelspec": {
   "display_name": "torch38",
   "language": "python",
   "name": "python3"
  },
  "language_info": {
   "codemirror_mode": {
    "name": "ipython",
    "version": 3
   },
   "file_extension": ".py",
   "mimetype": "text/x-python",
   "name": "python",
   "nbconvert_exporter": "python",
   "pygments_lexer": "ipython3",
   "version": "3.8.18"
  }
 },
 "nbformat": 4,
 "nbformat_minor": 2
}

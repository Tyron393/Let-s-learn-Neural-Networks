{
 "cells": [
  {
   "cell_type": "markdown",
   "metadata": {},
   "source": [
    "# Functions\n",
    "\n",
    "In Python, functions are reusable blocks of code that perform a specific task. They allow you to organize your code into smaller, modular pieces that can be called upon whenever needed. This helps avoid redundancy and makes your code cleaner, more readable, and easier to maintain.\n",
    "\n",
    "A function in Python can take input arguments, perform operations, and optionally return a result. Functions are an essential part of Python programming and can significantly enhance code efficiency and modularity.\n",
    "\n",
    "- **Defining a function**: Functions are defined using the `def` keyword followed by the function name and parentheses `(` `)`. Any arguments required by the function go inside the parentheses, and the function body is indented.\n",
    "\n",
    "- **Return values**: Functions can return results using the `return` statement. If no return value is provided, the function returns `None` by default."
   ]
  },
  {
   "cell_type": "code",
   "execution_count": 1,
   "metadata": {},
   "outputs": [
    {
     "name": "stdout",
     "output_type": "stream",
     "text": [
      "Hello, Alice!\n",
      "8\n"
     ]
    }
   ],
   "source": [
    "def greet(name):\n",
    "    print(f\"Hello, {name}!\")\n",
    "\n",
    "greet(\"Alice\") # Output: Hello, Alice!\n",
    "\n",
    "def add(a, b):\n",
    "    return a + b\n",
    "\n",
    "result = add(3, 5)\n",
    "print(result)  # Output: 8\n"
   ]
  },
  {
   "cell_type": "markdown",
   "metadata": {},
   "source": [
    "---\n",
    "### Arguments and parameters \n",
    "Functions can accept multiple arguments, and these can be passed in various ways:\n",
    "- **Positional arguments**: Arguments passed in order.\n",
    "- **Keyword arguments**: Arguments passed using the parameter name, allowing flexibility in order.\n",
    "- **Default arguments**: Parameters that have default values if no argument is passed.\n",
    "- **Arbitrary arguments**: You can pass a variable number of arguments using `*args` for positional arguments and `**kwargs` for keyword arguments."
   ]
  },
  {
   "cell_type": "code",
   "execution_count": 2,
   "metadata": {},
   "outputs": [
    {
     "name": "stdout",
     "output_type": "stream",
     "text": [
      "15\n",
      "Hello, John Doe!\n",
      "Hello, Jane Smith!\n",
      "My name is Alice and I am 30 years old.\n",
      "My name is Bob and I am 25 years old.\n",
      "6\n",
      "60\n",
      "name: Alice\n",
      "age: 25\n",
      "country: USA\n",
      "Positional arguments: (1, 2, 3)\n",
      "Keyword arguments: {'name': 'Alice', 'age': 25}\n"
     ]
    }
   ],
   "source": [
    "# Positional arguments\n",
    "\n",
    "def multiply(a, b):\n",
    "    return a * b\n",
    "\n",
    "# Calling the function with positional arguments\n",
    "result = multiply(3, 5)\n",
    "print(result)  # Output: 15\n",
    "\n",
    "#Keyword arguments\n",
    "\n",
    "def greet(first_name, last_name):\n",
    "    print(f\"Hello, {first_name} {last_name}!\")\n",
    "\n",
    "# Calling the function with keyword arguments\n",
    "greet(first_name=\"John\", last_name=\"Doe\")  # Output: Hello, John Doe!\n",
    "\n",
    "# Order doesn't matter when using keyword arguments\n",
    "greet(last_name=\"Smith\", first_name=\"Jane\")  # Output: Hello, Jane Smith!\n",
    "\n",
    "# Default arguments\n",
    "\n",
    "def introduce(name, age=30):\n",
    "    print(f\"My name is {name} and I am {age} years old.\")\n",
    "\n",
    "# Calling the function with one argument, default value for age will be used\n",
    "introduce(\"Alice\")  # Output: My name is Alice and I am 30 years old\n",
    "\n",
    "# Calling the function with both arguments, default value is overridden\n",
    "introduce(\"Bob\", 25)  # Output: My name is Bob and I am 25 years old\n",
    "\n",
    "# Arbitrary arguments (*args)\n",
    "\n",
    "def add_numbers(*args):\n",
    "    return sum(args)\n",
    "\n",
    "# Calling the function with different numbers of arguments\n",
    "print(add_numbers(1, 2, 3))     # Output: 6\n",
    "print(add_numbers(10, 20, 30))  # Output: 60\n",
    "\n",
    "# Arbitrary arguments (**kwargs)\n",
    "\n",
    "def print_user_info(**kwargs):\n",
    "    for key, value in kwargs.items():\n",
    "        print(f\"{key}: {value}\")\n",
    "\n",
    "# Calling the function with different keyword arguments\n",
    "print_user_info(name=\"Alice\", age=25, country=\"USA\")\n",
    "# Output:\n",
    "# name: Alice\n",
    "# age: 25\n",
    "# country: USA\n",
    "\n",
    "# Combining *args and **kwargs\n",
    "\n",
    "def display_info(*args, **kwargs):\n",
    "    print(\"Positional arguments:\", args)\n",
    "    print(\"Keyword arguments:\", kwargs)\n",
    "\n",
    "# Calling the function with both positional and keyword arguments\n",
    "display_info(1, 2, 3, name=\"Alice\", age=25)\n",
    "# Output:\n",
    "# Positional arguments: (1, 2, 3)\n",
    "# Keyword arguments: {'name': 'Alice', 'age': 25}"
   ]
  },
  {
   "cell_type": "markdown",
   "metadata": {},
   "source": [
    "---\n",
    "### Benefits of Functions:\n",
    "- **Reusability**: Functions allow you to write code once and use it multiple times, promoting code reuse.\n",
    "- **Modularity**: They help break down complex problems into smaller, manageable parts.\n",
    "- **Maintainability**: Functions make code easier to read, understand, and maintain, improving overall code organization.\n",
    "- **Avoiding redundancy**: With functions, you avoid repeating the same logic in different places."
   ]
  },
  {
   "cell_type": "markdown",
   "metadata": {},
   "source": [
    "---\n",
    "# Type Recommendations and Docstrings\n",
    "\n",
    "## Type Hints\n",
    "\n",
    "Python is a **dynamically typed** language, meaning that variable types are typically inferred at runtime. However, Python also supports **type hints**, which are annotations that provide information about the expected types of a function’s parameters and return value. While type hints **don’t enforce** types during execution, they are useful for:\n",
    "\n",
    "- **Code clarity**: Communicating the expected types to others (or to your future self).\n",
    "- **Static analysis**: Helping tools like linters (e.g., `mypy`) detect potential type-related issues before runtime.\n",
    "\n",
    "Type hints are added using the colon (:) for parameters and an arrow (->) for the return type.\n"
   ]
  },
  {
   "cell_type": "code",
   "execution_count": 4,
   "metadata": {},
   "outputs": [],
   "source": [
    "def add(a: int, b: int) -> int:\n",
    "    return a + b\n",
    "\n",
    "# This function takes two integers and returns an integer.\n",
    "result = add(3, 5)  # Valid\n",
    "# result = add(\"3\", 5)  # This would raise an error if statically checked by a linter."
   ]
  },
  {
   "cell_type": "markdown",
   "metadata": {},
   "source": [
    "### Benefits of Using Type Hints:\n",
    "- **Improved readability**: Type hints make it immediately clear what types the function expects, helping users avoid mistakes.\n",
    "- **Error prevention**: They help identify potential bugs earlier with static code checkers.\n",
    "- **Better IDE support**: Many modern code editors and IDEs provide auto-completion and error checking based on type hints, improving the development experience.\n",
    "\n",
    "You can also define more complex type annotations for lists, dictionaries, or custom classes using the `typing` module."
   ]
  },
  {
   "cell_type": "code",
   "execution_count": 3,
   "metadata": {},
   "outputs": [],
   "source": [
    "from typing import List, Dict\n",
    "\n",
    "def process_data(data: List[int]) -> Dict[str, int]:\n",
    "    return {\"sum\": sum(data), \"count\": len(data)}\n",
    "\n",
    "# The function accepts a list of integers and returns a dictionary."
   ]
  },
  {
   "cell_type": "markdown",
   "metadata": {},
   "source": [
    "---\n",
    "## Docstrings\n",
    "A docstring is a special type of comment that describes what a function (or class, module, etc.) does. Unlike regular comments, docstrings are enclosed in triple quotes (`\"\"\"` or `'''`) and are placed immediately after the function’s definition. Python uses docstrings as the official documentation of functions, and they can be accessed programmatically via the function's `.__doc__` attribute or help system."
   ]
  },
  {
   "cell_type": "code",
   "execution_count": 5,
   "metadata": {},
   "outputs": [],
   "source": [
    "def greet(name: str) -> None:\n",
    "    \"\"\"\n",
    "    Greet the user by name.\n",
    "\n",
    "    Args:\n",
    "        name (str): The name of the person to greet.\n",
    "    \n",
    "    Returns:\n",
    "        None\n",
    "    \"\"\"\n",
    "    print(f\"Hello, {name}!\")"
   ]
  },
  {
   "cell_type": "markdown",
   "metadata": {},
   "source": [
    "### Key Elements of a Good Docstring:\n",
    "- **Purpose**: A brief explanation of what the function does.\n",
    "- **Arguments (Args:)**: A description of each parameter, including its name and expected type.\n",
    "- **Returns (Returns:)**: A description of what the function returns (if applicable) and its type.\n",
    "- **Raises (Raises:)**: Any exceptions the function might raise (optional).\n",
    "\n",
    "### Benefits of Using Docstrings:\n",
    "- **Improved documentation**: Docstrings serve as in-line documentation for the function, making it easier for developers to understand its purpose and usage.\n",
    "- **Interactive help**: Docstrings can be accessed using Python’s `help()` function to provide detailed information during interactive sessions.\n",
    "- **Documentation tools**: Tools like Sphinx can automatically extract docstrings and generate external documentation for your code."
   ]
  },
  {
   "cell_type": "code",
   "execution_count": 6,
   "metadata": {},
   "outputs": [
    {
     "name": "stdout",
     "output_type": "stream",
     "text": [
      "Help on function greet in module __main__:\n",
      "\n",
      "greet(name: str) -> None\n",
      "    Greet the user by name.\n",
      "    \n",
      "    Args:\n",
      "        name (str): The name of the person to greet.\n",
      "    \n",
      "    Returns:\n",
      "        None\n",
      "\n"
     ]
    }
   ],
   "source": [
    "help(greet)  # This would display the docstring for the greet function"
   ]
  },
  {
   "cell_type": "markdown",
   "metadata": {},
   "source": [
    "---\n",
    "# Generators and yield\n",
    "In Python, generators are a special type of function that allow you to iterate over a sequence of values lazily, meaning they generate values on the fly as needed rather than computing and storing all of them at once. This can be especially useful when dealing with large datasets or infinite sequences where computing all values upfront would be inefficient or impossible.\n",
    "\n",
    "Generators are defined like normal functions but use the `yield` keyword instead of `return` to provide a value to the calling code, and they maintain their state between executions. When a generator is called, it doesn’t execute the function immediately; instead, it returns an iterator object which can be iterated over using a loop or passed to other functions."
   ]
  },
  {
   "cell_type": "markdown",
   "metadata": {},
   "source": [
    "## Generator Expressions\n",
    "Python also provides a more concise way to define generators, called generator expressions. These are similar to list comprehensions, but they return a generator object instead of a list, using parentheses `()` instead of square brackets `[]`."
   ]
  },
  {
   "cell_type": "code",
   "execution_count": 7,
   "metadata": {},
   "outputs": [
    {
     "name": "stdout",
     "output_type": "stream",
     "text": [
      "[0, 1, 4, 9, 16]\n",
      "<generator object <genexpr> at 0x00000148AC77EBA0>\n",
      "0\n",
      "1\n",
      "4\n",
      "9\n",
      "16\n"
     ]
    }
   ],
   "source": [
    "# List comprehension\n",
    "squares_list = [x**2 for x in range(5)]\n",
    "print(squares_list)  # Output: [0, 1, 4, 9, 16]\n",
    "\n",
    "# Generator expression\n",
    "squares_gen = (x**2 for x in range(5))\n",
    "print(squares_gen)  # Output: <generator object ...>\n",
    "\n",
    "# Iterating over the generator\n",
    "for square in squares_gen:\n",
    "    print(square)"
   ]
  },
  {
   "cell_type": "markdown",
   "metadata": {},
   "source": [
    "---\n",
    "## How Generators Work\n",
    "Generators work by suspending and resuming execution at each `yield` statement. Unlike normal functions which terminate after reaching a `return` statement, a generator function can be resumed where it left off when its next value is requested.\n",
    "\n",
    "The `yield` keyword is what makes a function a generator. Unlike `return`, which exits a function and returns a value, `yield` pauses the function, saving its state, and returns a value. When the function is called again (or iterated over), it resumes from where it left off.\n",
    "\n",
    "### Key Points about `yield`:\n",
    "- When the function encounters a `yield`, it returns the value following `yield` and pauses execution.\n",
    "- The next time the generator is called (or iterated over), it resumes from the point right after the last `yield`.\n",
    "- A function can contain multiple `yield` statements to produce multiple values over time.\n",
    "\n",
    "### Lazy Evaluation and Efficiency\n",
    "One of the main advantages of generators is that they are `lazy`. Instead of computing and storing all values in memory at once (as a list comprehension would), a generator produces each value only when requested. This makes them memory-efficient, especially when dealing with large data sets or streams of data.\n",
    "\n",
    "For example, imagine you need to generate a sequence of a billion numbers. Using a list would consume a huge amount of memory, but a generator handles this efficiently:"
   ]
  },
  {
   "cell_type": "code",
   "execution_count": null,
   "metadata": {},
   "outputs": [],
   "source": [
    "def even_numbers(n):\n",
    "    for i in range(n):\n",
    "        if i % 2 == 0:\n",
    "            yield i  # Yields the value of 'i' when it's even\n",
    "\n",
    "# Using the generator\n",
    "for num in even_numbers(10):\n",
    "    print(num)\n",
    "\n",
    "def generate_numbers():\n",
    "    n = 0\n",
    "    while True:  # Infinite sequence\n",
    "        yield n\n",
    "        n += 1"
   ]
  },
  {
   "cell_type": "markdown",
   "metadata": {},
   "source": [
    "## Generators vs. Normal Functions\n",
    "|    Feature   |                              Normal Function                             |                              Generator Function                              |\n",
    "|--------------|--------------------------------------------------------------------------|------------------------------------------------------------------------------|\n",
    "| Returns      | A single value                                                           | Multiple values over time using yield                                        |\n",
    "| Execution    | Runs to completion                                                       | Pauses and resumes between yield statements                                  |\n",
    "| Memory Usage | Uses more memory if the function returns a large sequence (e.g., a list) | Efficient in terms of memory, as values are produced lazily                  |\n",
    "| Iteration    | Must return a full sequence to iterate over                              | Can be iterated over directly without generating the entire sequence at once |"
   ]
  },
  {
   "cell_type": "markdown",
   "metadata": {},
   "source": [
    "## Sending Values to Generators (`send()`)\n",
    "\n",
    "Generators not only yield values, but they can also receive values from the calling code via the `send()` method. This is a more advanced feature that allows two-way communication between the caller and the generator."
   ]
  },
  {
   "cell_type": "code",
   "execution_count": 8,
   "metadata": {},
   "outputs": [
    {
     "name": "stdout",
     "output_type": "stream",
     "text": [
      "Received: Hello!\n",
      "Received: Python!\n"
     ]
    }
   ],
   "source": [
    "def echo():\n",
    "    while True:\n",
    "        received = yield  # Receive value from send()\n",
    "        print(f\"Received: {received}\")\n",
    "\n",
    "gen = echo()\n",
    "next(gen)  # Start the generator\n",
    "gen.send(\"Hello!\")  # Output: Received: Hello!\n",
    "gen.send(\"Python!\")  # Output: Received: Python!"
   ]
  },
  {
   "cell_type": "markdown",
   "metadata": {},
   "source": [
    "## Closing Generators (`close()` and `GeneratorExit`)\n",
    "You can manually stop a generator using the `close()` method. This raises a `GeneratorExit` exception inside the generator, which can be caught if needed, allowing the generator to perform any cleanup before stopping."
   ]
  },
  {
   "cell_type": "code",
   "execution_count": 9,
   "metadata": {},
   "outputs": [
    {
     "name": "stdout",
     "output_type": "stream",
     "text": [
      "5\n",
      "Generator closed!\n"
     ]
    }
   ],
   "source": [
    "def countdown(n):\n",
    "    try:\n",
    "        while n > 0:\n",
    "            yield n\n",
    "            n -= 1\n",
    "    except GeneratorExit:\n",
    "        print(\"Generator closed!\")\n",
    "\n",
    "gen = countdown(5)\n",
    "print(next(gen))  # Output: 5\n",
    "gen.close()  # Closes the generator, prints \"Generator closed!\""
   ]
  }
 ],
 "metadata": {
  "kernelspec": {
   "display_name": "torch38",
   "language": "python",
   "name": "python3"
  },
  "language_info": {
   "codemirror_mode": {
    "name": "ipython",
    "version": 3
   },
   "file_extension": ".py",
   "mimetype": "text/x-python",
   "name": "python",
   "nbconvert_exporter": "python",
   "pygments_lexer": "ipython3",
   "version": "3.8.18"
  }
 },
 "nbformat": 4,
 "nbformat_minor": 2
}

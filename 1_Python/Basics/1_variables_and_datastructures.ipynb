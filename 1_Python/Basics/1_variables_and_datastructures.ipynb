{
 "cells": [
  {
   "cell_type": "markdown",
   "metadata": {},
   "source": [
    "# Base vairables\n",
    "\n",
    "In Python, the language is **dynamically typed**, meaning that the type of variables is not explicitly declared and can change during runtime. For example, you can assign an integer to a variable and later assign a string to the same variable without any errors:"
   ]
  },
  {
   "cell_type": "code",
   "execution_count": 21,
   "metadata": {},
   "outputs": [
    {
     "name": "stdout",
     "output_type": "stream",
     "text": [
      "<class 'int'>\n",
      "<class 'str'>\n"
     ]
    }
   ],
   "source": [
    "x = 10      # 'x' is initially an integer\n",
    "print(type(x))  # Output: <class 'int'>\n",
    "\n",
    "x = \"Hello\" # Now 'x' is a string\n",
    "print(type(x))  # Output: <class 'str'>"
   ]
  },
  {
   "cell_type": "markdown",
   "metadata": {},
   "source": [
    "This behavior makes Python highly flexible, allowing you to write code without needing to specify variable types explicitly. However, this **dynamic typing** can lead to **unintended behavior** if not managed carefully, as variables can unintentionally change types, which may cause errors at runtime. For example, mixing types in an operation may cause issues:"
   ]
  },
  {
   "cell_type": "code",
   "execution_count": 22,
   "metadata": {},
   "outputs": [],
   "source": [
    "x = 5       # integer\n",
    "y = \"10\"    # string\n",
    "\n",
    "# Trying to add them will raise a TypeError\n",
    "# print(x + y)  # TypeError: unsupported operand type(s) for +: 'int' and 'str'"
   ]
  },
  {
   "cell_type": "markdown",
   "metadata": {},
   "source": [
    "In cases like these, it is important to manage the types explicitly to avoid errors. For example:"
   ]
  },
  {
   "cell_type": "code",
   "execution_count": 23,
   "metadata": {},
   "outputs": [
    {
     "name": "stdout",
     "output_type": "stream",
     "text": [
      "15\n"
     ]
    }
   ],
   "source": [
    "x = 5\n",
    "y = \"10\"\n",
    "result = x + int(y)  # Convert the string 'y' to an integer before addition\n",
    "print(result)  # Output: 15"
   ]
  },
  {
   "cell_type": "markdown",
   "metadata": {},
   "source": [
    "---\n",
    "## Tuple\n",
    "- **Heterogeneous**: Can store different types of elements.\n",
    "- **Immutable**: Cannot be changed once created.\n",
    "- **Ordered**: Elements maintain their insertion order.\n",
    "\n",
    "### Methods:\n",
    "- **tuple.count()**: Counts the occurrences of a specified element.\n",
    "- **tuple.index()**: Returns the index of the first occurrence of the element.\n",
    "\n",
    "### Key Points:\n",
    "\n",
    "- Tuples can store a mixture of types but cannot be changed after creation. This immutability makes tuples useful when you want to ensure data consistency."
   ]
  },
  {
   "cell_type": "code",
   "execution_count": 14,
   "metadata": {},
   "outputs": [
    {
     "name": "stdout",
     "output_type": "stream",
     "text": [
      "(10, 'Tuple', False, 10)\n",
      "2\n",
      "2\n"
     ]
    }
   ],
   "source": [
    "t1 = (10, \"Tuple\", False, 10)\n",
    "print(t1)  # Output: (10, 'Tuple', False, 10)\n",
    "\n",
    "print(t1.count(10))  # Output: 2\n",
    "\n",
    "print(t1.index(False))  # Output: 2\n",
    "\n",
    "# Trying to modify a tuple will result in an error\n",
    "# t1[0] = 20  # This would raise a TypeError because tuples are immutable"
   ]
  },
  {
   "cell_type": "markdown",
   "metadata": {},
   "source": [
    "---\n",
    "## List\n",
    "- **Heterogeneous**: Can contain elements of different types.\n",
    "- **Mutable**: Can be changed after creation.\n",
    "- **Ordered**: Elements maintain their insertion order.\n",
    "\n",
    "### Methods:\n",
    "- **list.append()**: Adds a value to the end of the list.\n",
    "- **list.pop()**: Removes the element at the specified position (or the last element if no position is specified).\n",
    "- **list.extend()**: Extends the list by appending all elements from the iterable.\n",
    "- **list.insert()**: Inserts an element at a specified index.\n",
    "- **list.remove()**: Removes the first occurrence of a specified element.\n",
    "- **list.reverse()**: Reverses the order of elements in the list.\n",
    "- **list.sort()**: Sorts the list in place (ascending by default).\n",
    "- **list.index()**: Returns the index of the first occurrence of a specified element.\n",
    "- **list.count()**: Returns the count of how many times an element appears in the list."
   ]
  },
  {
   "cell_type": "code",
   "execution_count": 8,
   "metadata": {},
   "outputs": [
    {
     "name": "stdout",
     "output_type": "stream",
     "text": [
      "[4, 'String', True]\n",
      "[4, 'String', True, 7]\n",
      "[4, 'String', True]\n",
      "[4, 'String', True, 5]\n",
      "[9, 'String', True, 5]\n",
      "[3, 1, 2, 3, 4, 5]\n",
      "[3, 10, 1, 2, 3, 4, 5]\n",
      "[10, 1, 2, 3, 4, 5]\n",
      "[5, 4, 3, 2, 1, 10]\n",
      "[1, 2, 3, 4, 5, 10]\n",
      "2\n",
      "1\n"
     ]
    }
   ],
   "source": [
    "l1 = [4, \"String\", True]\n",
    "print(l1)  # Output: [4, 'String', True]\n",
    "\n",
    "l1.append(7)\n",
    "print(l1)  # Output: [4, 'String', True, 7]\n",
    "\n",
    "l1.pop()\n",
    "print(l1)  # Output: [4, 'String', True]\n",
    "\n",
    "l1 += [5]  # Concatenation\n",
    "print(l1)  # Output: [4, 'String', True, 5]\n",
    "\n",
    "l1[0] = 9  # Changing an element by index\n",
    "print(l1)  # Output: [9, 'String', True, 5]\n",
    "\n",
    "l = [3, 1, 2, 3]\n",
    "\n",
    "l.extend([4, 5])  # Adds [4, 5] to the list\n",
    "print(l)  # Output: [3, 1, 2, 3, 4, 5]\n",
    "\n",
    "l.insert(1, 10)  # Inserts 10 at index 1\n",
    "print(l)  # Output: [3, 10, 1, 2, 3, 4, 5]\n",
    "\n",
    "l.remove(3)  # Removes the first occurrence of 3\n",
    "print(l)  # Output: [10, 1, 2, 3, 4, 5]\n",
    "\n",
    "l.reverse()  # Reverses the list\n",
    "print(l)  # Output: [5, 4, 3, 2, 1, 10]\n",
    "\n",
    "l.sort()  # Sorts the list\n",
    "print(l)  # Output: [1, 2, 3, 4, 5, 10]\n",
    "\n",
    "index_of_3 = l.index(3)  # Returns the index of the first occurrence of 3\n",
    "print(index_of_3)  # Output: 2\n",
    "\n",
    "count_of_3 = l.count(3)  # Counts how many times 3 appears\n",
    "print(count_of_3)  # Output: 1"
   ]
  },
  {
   "cell_type": "markdown",
   "metadata": {},
   "source": [
    "---\n",
    "## Set\n",
    "- **Heterogeneous**: Can contain elements of different types, but must be unique.\n",
    "- **Mutable**: Can be changed by adding or removing elements.\n",
    "- **Unordered**: The elements do not maintain any specific order.\n",
    "\n",
    "### Methods:\n",
    "- **set.add()**: Adds an element to the set.\n",
    "- **set.remove()**: Removes a specific element from the set.\n",
    "- **set.union()**: Gives back the elements that are in either one of the sets\n",
    "- **set.diffetence()**: Gives back the elements that are in the set, but not in the set that as parameter\n",
    "- **set.intersection()**: Gives back the elements that both sets are containing\n",
    "- **set.update()**: Adds elements from an iterable to the set.\n",
    "- **set.symmetric_difference()**: Returns a set with elements in either set, but not in both.\n",
    "- **set.discard()**: Removes an element from the set if present.\n",
    "- **set.clear()**: Removes all elements from the set.\n",
    "\n",
    "### Key Points:\n",
    "- Sets do not allow duplicates, and there is no guarantee of element order. They are mainly used when you need to check for membership or remove duplicates.\n"
   ]
  },
  {
   "cell_type": "code",
   "execution_count": 17,
   "metadata": {},
   "outputs": [
    {
     "name": "stdout",
     "output_type": "stream",
     "text": [
      "{1, 2, 3}\n",
      "{1, 2, 3, 4}\n",
      "{1, 3, 4}\n",
      "{1, 3, 4}\n",
      "{1, 3, 4, 5}\n",
      "{1, 3, 4, 5, 6}\n",
      "{3, 4, 5}\n",
      "{1}\n",
      "{1, 3, 4}\n",
      "set()\n"
     ]
    }
   ],
   "source": [
    "s1 = {1, 2, 3}\n",
    "print(s1)  # Output: {1, 2, 3}\n",
    "\n",
    "s1.add(4)\n",
    "print(s1)  # Output: {1, 2, 3, 4}\n",
    "\n",
    "s1.remove(2)\n",
    "print(s1)  # Output: {1, 3, 4}\n",
    "\n",
    "# Duplicates are ignored in sets\n",
    "s1.add(3)\n",
    "print(s1)  # Output: {1, 3, 4}  # Still no duplicates\n",
    "\n",
    "s1.update([4, 5])\n",
    "print(s1)  # Output: {1, 2, 3, 4, 5}\n",
    "\n",
    "s2 = {3, 4, 5, 6}\n",
    "union_set = s1.union(s2)\n",
    "print(union_set)  # Output: {1, 2, 3, 4, 5, 6}\n",
    "\n",
    "intersection_set = s1.intersection(s2)\n",
    "print(intersection_set)  # Output: {3, 4, 5}\n",
    "\n",
    "difference_set = s1.difference(s2)\n",
    "print(difference_set)  # Output: {1, 2}\n",
    "\n",
    "s1.discard(5)\n",
    "print(s1)  # Output: {1, 2, 3, 4}\n",
    "\n",
    "s1.clear()\n",
    "print(s1)  # Output: set()"
   ]
  },
  {
   "cell_type": "markdown",
   "metadata": {},
   "source": [
    "---\n",
    "## Dictionary\n",
    "- **Heterogeneous**: Both keys and values can have different types.\n",
    "- **Mutable**: Can be changed after creation.\n",
    "- **Ordered**: Python 3.7+ guarantees that dictionaries maintain the insertion order of keys.\n",
    "\n",
    "### Methods:\n",
    "\n",
    "- **dict.get()**: Retrieves a value for a given key, with an optional default value.\n",
    "- **dict.pop()**: Removes and returns the value of the specified key.\n",
    "- **dict.keys()**: Returns a view object of all keys in the dictionary.\n",
    "- **dict.values()**: Returns a view object of all values in the dictionary.\n",
    "- **dict.items()**: Returns a view object of the dictionary’s key-value pairs (as tuples).\n",
    "- **dict.update()**: Updates the dictionary with elements from another dictionary or iterable of key-value pairs.\n",
    "- **dict.setdefault()**: Returns the value of a key if it exists, else inserts the key with a specified default value.\n",
    "- **dict.popitem()**: Removes and returns the last inserted key-value pair.\n",
    "\n",
    "### Key Points:\n",
    "\n",
    "- Dictionaries store data in key-value pairs. They allow fast lookup of values by keys and maintain insertion order in Python 3.7+.\n"
   ]
  },
  {
   "cell_type": "code",
   "execution_count": 19,
   "metadata": {},
   "outputs": [
    {
     "name": "stdout",
     "output_type": "stream",
     "text": [
      "{'name': 'Alice', 'age': 25, 'is_student': True}\n",
      "Alice\n",
      "{'name': 'Alice', 'age': 26, 'is_student': True}\n",
      "{'name': 'Alice', 'age': 26, 'is_student': True, 'grade': 'A'}\n",
      "26\n",
      "{'name': 'Alice', 'is_student': True, 'grade': 'A'}\n",
      "dict_keys(['name', 'is_student', 'grade'])\n",
      "dict_values(['Alice', True, 'A'])\n",
      "dict_items([('name', 'Alice'), ('is_student', True), ('grade', 'A')])\n",
      "{'name': 'Alice', 'is_student': True, 'grade': 'A', 'age': 26, 'country': 'USA'}\n",
      "26\n",
      "{'name': 'Alice', 'is_student': True, 'grade': 'A', 'age': 26}\n"
     ]
    }
   ],
   "source": [
    "d1 = {\"name\": \"Alice\", \"age\": 25, \"is_student\": True}\n",
    "print(d1)  # Output: {'name': 'Alice', 'age': 25, 'is_student': True}\n",
    "\n",
    "# Accessing a value by key\n",
    "print(d1[\"name\"])  # Output: Alice\n",
    "\n",
    "# Changing a value\n",
    "d1[\"age\"] = 26\n",
    "print(d1)  # Output: {'name': 'Alice', 'age': 26, 'is_student': True}\n",
    "\n",
    "# Adding a new key-value pair\n",
    "d1[\"grade\"] = \"A\"\n",
    "print(d1)  # Output: {'name': 'Alice', 'age': 26, 'is_student': True, 'grade': 'A'}\n",
    "\n",
    "# Popping a key-value pair\n",
    "age = d1.pop(\"age\")\n",
    "print(age)  # Output: 26\n",
    "\n",
    "print(d1)   # Output: {'name': 'Alice', 'is_student': True, 'grade': 'A'}\n",
    "\n",
    "print(d1.keys())  # Output: dict_keys(['name', 'is_student', 'grade'])\n",
    "\n",
    "print(d1.values())  # Output: dict_values(['Alice', True, 'A'])\n",
    "\n",
    "print(d1.items())  # Output: dict_items([('name', 'Alice'), ('is_student', True), ('grade', 'A')])\n",
    "\n",
    "d1.update({\"age\": 26, \"country\": \"USA\"})\n",
    "print(d1)  # Output: {'name': 'Alice', 'is_student': True, 'grade': 'A', 'age': 26, 'country': 'USA'}\n",
    "\n",
    "age = d1.setdefault(\"age\", 30)\n",
    "print(age)  # Output: 26\n",
    "\n",
    "d1.popitem()\n",
    "print(d1)  # Output: {'name': 'Alice', 'is_student': True, 'grade': 'A', 'age': 26}\n"
   ]
  },
  {
   "cell_type": "markdown",
   "metadata": {},
   "source": [
    "---\n",
    "## String\n",
    "- **Homogeneous**: Stores text data (sequence of characters).\n",
    "- **Immutable**: Cannot be changed after creation.\n",
    "- **Ordered**: Characters retain their order in the string.\n",
    "\n",
    "### Methods:\n",
    "- **str.upper()**: Converts all characters to uppercase.\n",
    "- **str.replace()**: Replaces a substring with another substring.\n",
    "- **str.lower()**: Converts all characters to lowercase.\n",
    "- **str.split()**: Splits the string into a list of substrings based on the specified delimiter.\n",
    "- **str.join()**: Joins elements of an iterable into a string, using the string as a separator.\n",
    "- **str.find()**: Returns the index of the first occurrence of the substring, or -1 if not found.\n",
    "- **str.startswith()**: Checks if the string starts with the given substring.\n",
    "- **str.endswith()**: Checks if the string ends with the given substring.\n",
    "- **str.strip()**: Removes leading and trailing whitespace.\n",
    "\n",
    "### Key Points:\n",
    "\n",
    "- Strings are immutable, meaning any operation that \"modifies\" the string actually returns a new string. They are ordered, meaning that indexing and slicing operations are allowed."
   ]
  },
  {
   "cell_type": "code",
   "execution_count": 20,
   "metadata": {},
   "outputs": [
    {
     "name": "stdout",
     "output_type": "stream",
     "text": [
      "  Hello, Python!  \n",
      "  HELLO, PYTHON!  \n",
      "  Hello, Python!  \n",
      "  Hello, Python!  \n",
      "  hello, python!  \n",
      "['  Hello', 'Python!  ']\n",
      "Hello-World\n",
      "9\n",
      "True\n",
      "True\n",
      "Hello, Python!\n"
     ]
    }
   ],
   "source": [
    "s = \"  Hello, Python!  \"\n",
    "print(s)  # Output:   Hello, Python!  \n",
    "\n",
    "# Converting to uppercase\n",
    "print(s.upper())  # Output:   HELLO, PYTHON!  \n",
    "\n",
    "# Replacing a substring\n",
    "s_new = s.replace(\"World\", \"Python\")\n",
    "print(s_new)  # Output:   Hello, Python!  \n",
    "\n",
    "# Strings are immutable, so operations return new strings\n",
    "print(s)  # Original string is unchanged: Output:   Hello, Python!  \n",
    "\n",
    "print(s.lower())  # Output: \"  hello, python!  \"\n",
    "\n",
    "words = s.split(\", \")\n",
    "print(words)  # Output: ['  Hello', 'Python!  ']\n",
    "\n",
    "joined_str = \"-\".join([\"Hello\", \"World\"])\n",
    "print(joined_str)  # Output: \"Hello-World\"\n",
    "\n",
    "index = s.find(\"Python\")\n",
    "print(index)  # Output: 8\n",
    "\n",
    "print(s.startswith(\"  Hello\"))  # Output: True\n",
    "\n",
    "print(s.endswith(\"Python!  \"))  # Output: True\n",
    "\n",
    "trimmed = s.strip()\n",
    "print(trimmed)  # Output: \"Hello, Python!\""
   ]
  },
  {
   "cell_type": "markdown",
   "metadata": {},
   "source": [
    "---\n",
    "## Summary Table\n",
    "\n",
    "| Type       | Mutability | Orderable | Homogenity    | Example          |\n",
    "|------------|------------|-----------|---------------|------------------|\n",
    "| List       | Mutable    | Ordered   | Heterogeneous | [1, 2, 3]        |\n",
    "| Tuple      | Immutable  | Ordered   | Heterogeneous | (1, 2, 3)        |\n",
    "| Set        | Mutable    | Unordered | Heterogeneous | {1, 2, 3}        |\n",
    "| Dictionary | Mutable    | Ordered   | Heterogeneous | {\"a\": 1, \"b\": 2} |\n",
    "| String     | Immutable  | Ordered   | Homogeneous   | \"Hello\"          |\n",
    "\n",
    "---\n",
    "\n",
    "## Summary of Additional Functions\n",
    "\n",
    "|    Type    |                                              Functions                                              |\n",
    "|------------|-----------------------------------------------------------------------------------------------------|\n",
    "| List       | `append()`, `pop()`, `extend()`, `insert()`, `remove()`, `reverse()`, `sort()`, `index()`, `count()`                  |\n",
    "| Tuple      | `count()`, `index()`                                                                                    |\n",
    "| Set        | `add()`, `remove()`, `update()`, `union()`, `intersection()`, `difference()`, `symmetric_difference()`, `discard()` |\n",
    "| Dictionary | `get()`, `pop()`, `keys()`, `values()`, `items()`, `update()`, `setdefault()`, `popitem()`                          |\n",
    "| String     | `upper()`, `replace()`, `lower()`, `split()`, `join()`, `find()`, `startswith()`, `endswith()`, `strip()`             |"
   ]
  }
 ],
 "metadata": {
  "kernelspec": {
   "display_name": "torch38",
   "language": "python",
   "name": "python3"
  },
  "language_info": {
   "codemirror_mode": {
    "name": "ipython",
    "version": 3
   },
   "file_extension": ".py",
   "mimetype": "text/x-python",
   "name": "python",
   "nbconvert_exporter": "python",
   "pygments_lexer": "ipython3",
   "version": "3.8.18"
  }
 },
 "nbformat": 4,
 "nbformat_minor": 2
}
